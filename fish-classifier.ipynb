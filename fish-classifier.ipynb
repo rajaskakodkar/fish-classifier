{
  "nbformat": 4,
  "nbformat_minor": 0,
  "metadata": {
    "colab": {
      "name": "JupyterNotebookinColab.ipynb",
      "provenance": [],
      "authorship_tag": "ABX9TyNnw+n0SLzp3WtpglTbkAoX",
      "include_colab_link": true
    },
    "kernelspec": {
      "name": "python3",
      "display_name": "Python 3"
    },
    "accelerator": "GPU"
  },
  "cells": [
    {
      "cell_type": "markdown",
      "metadata": {
        "id": "view-in-github",
        "colab_type": "text"
      },
      "source": [
        "<a href=\"https://colab.research.google.com/github/rajaskakodkar/fish-classifier/blob/master/fish-classifier.ipynb\" target=\"_parent\"><img src=\"https://colab.research.google.com/assets/colab-badge.svg\" alt=\"Open In Colab\"/></a>"
      ]
    },
    {
      "cell_type": "code",
      "metadata": {
        "id": "fY1jKMweolFs",
        "colab_type": "code",
        "colab": {
          "base_uri": "https://localhost:8080/",
          "height": 121
        },
        "outputId": "f563a243-f9f9-45c9-eea1-28f907e2e0f8"
      },
      "source": [
        "!git clone https://github.com/rajaskakodkar/fish-classifier"
      ],
      "execution_count": 1,
      "outputs": [
        {
          "output_type": "stream",
          "text": [
            "Cloning into 'fish-classifier'...\n",
            "remote: Enumerating objects: 18, done.\u001b[K\n",
            "remote: Counting objects: 100% (18/18), done.\u001b[K\n",
            "remote: Compressing objects: 100% (16/16), done.\u001b[K\n",
            "remote: Total 18 (delta 4), reused 6 (delta 0), pack-reused 0\u001b[K\n",
            "Unpacking objects: 100% (18/18), done.\n"
          ],
          "name": "stdout"
        }
      ]
    },
    {
      "cell_type": "code",
      "metadata": {
        "id": "hSiwm54WpATH",
        "colab_type": "code",
        "colab": {
          "base_uri": "https://localhost:8080/",
          "height": 298
        },
        "outputId": "763463db-94e4-47c4-d9a9-af4e5d23f8a1"
      },
      "source": [
        "!pip install -Uqq fastbook\n",
        "import fastbook\n",
        "fastbook.setup_book()"
      ],
      "execution_count": 2,
      "outputs": [
        {
          "output_type": "stream",
          "text": [
            "\u001b[K     |████████████████████████████████| 1.0MB 9.4MB/s \n",
            "\u001b[K     |████████████████████████████████| 358kB 37.3MB/s \n",
            "\u001b[K     |████████████████████████████████| 51kB 6.3MB/s \n",
            "\u001b[K     |████████████████████████████████| 61kB 7.1MB/s \n",
            "\u001b[K     |████████████████████████████████| 92kB 9.5MB/s \n",
            "\u001b[K     |████████████████████████████████| 40kB 4.7MB/s \n",
            "\u001b[K     |████████████████████████████████| 51kB 6.4MB/s \n",
            "\u001b[K     |████████████████████████████████| 61kB 7.5MB/s \n",
            "\u001b[K     |████████████████████████████████| 2.6MB 38.9MB/s \n",
            "\u001b[31mERROR: fastai 2.0.6 has requirement pandas>=1.1.0, but you'll have pandas 1.0.5 which is incompatible.\u001b[0m\n",
            "\u001b[?25hGo to this URL in a browser: https://accounts.google.com/o/oauth2/auth?client_id=947318989803-6bn6qk8qdgf4n4g3pfee6491hc0brc4i.apps.googleusercontent.com&redirect_uri=urn%3aietf%3awg%3aoauth%3a2.0%3aoob&scope=email%20https%3a%2f%2fwww.googleapis.com%2fauth%2fdocs.test%20https%3a%2f%2fwww.googleapis.com%2fauth%2fdrive%20https%3a%2f%2fwww.googleapis.com%2fauth%2fdrive.photos.readonly%20https%3a%2f%2fwww.googleapis.com%2fauth%2fpeopleapi.readonly&response_type=code\n",
            "\n",
            "Enter your authorization code:\n",
            "··········\n",
            "Mounted at /content/gdrive\n"
          ],
          "name": "stdout"
        }
      ]
    },
    {
      "cell_type": "code",
      "metadata": {
        "id": "OaX3ATbbs2gm",
        "colab_type": "code",
        "colab": {}
      },
      "source": [
        "from fastbook import *\n",
        "from fastai.vision.widgets import *\n"
      ],
      "execution_count": 11,
      "outputs": []
    },
    {
      "cell_type": "markdown",
      "metadata": {
        "id": "i8R12U7Op4Vw",
        "colab_type": "text"
      },
      "source": [
        "urls=Array.from(document.querySelectorAll(\"a.iusc\")).reduce((acc, el) => el.hasAttribute(\"m\") ? acc.concat(JSON.parse(el.getAttribute(\"m\")).murl) : acc, [])\n",
        "window.open('data:text/csv;charset=utf-8,' + escape(urls.join('\\n')));\n",
        "\n"
      ]
    },
    {
      "cell_type": "code",
      "metadata": {
        "id": "Rv0FgksPsPfY",
        "colab_type": "code",
        "colab": {}
      },
      "source": [
        "fish_types = 'red-snapper', 'mullet', 'croaker'"
      ],
      "execution_count": 24,
      "outputs": []
    },
    {
      "cell_type": "code",
      "metadata": {
        "id": "DZMm4COHslqD",
        "colab_type": "code",
        "colab": {}
      },
      "source": [
        "path = Path('data')"
      ],
      "execution_count": 25,
      "outputs": []
    },
    {
      "cell_type": "code",
      "metadata": {
        "id": "0nXX6sExtHSh",
        "colab_type": "code",
        "colab": {}
      },
      "source": [
        "download_images??"
      ],
      "execution_count": 13,
      "outputs": []
    },
    {
      "cell_type": "code",
      "metadata": {
        "id": "TbfVGA5dtyCP",
        "colab_type": "code",
        "colab": {
          "base_uri": "https://localhost:8080/",
          "height": 145
        },
        "outputId": "c5e0fa2c-53fa-4819-85d6-6c9f4a29f70e"
      },
      "source": [
        "doc(download_images)"
      ],
      "execution_count": 17,
      "outputs": [
        {
          "output_type": "display_data",
          "data": {
            "text/html": [
              "<h4 id=\"download_images\" class=\"doc_header\"><code>download_images</code><a href=\"https://github.com/fastai/fastai/tree/master/fastai/vision/utils.py#L19\" class=\"source_link\" style=\"float:right\">[source]</a></h4><blockquote><p><code>download_images</code>(<strong><code>dest</code></strong>, <strong><code>url_file</code></strong>=<em><code>None</code></em>, <strong><code>urls</code></strong>=<em><code>None</code></em>, <strong><code>max_pics</code></strong>=<em><code>1000</code></em>, <strong><code>n_workers</code></strong>=<em><code>8</code></em>, <strong><code>timeout</code></strong>=<em><code>4</code></em>)</p>\n",
              "</blockquote>\n",
              "<p>Download images listed in text file <code>url_file</code> to path <code>dest</code>, at most <code>max_pics</code></p>\n",
              "<p><a href=\"https://docs.fast.ai/vision.utils#download_images\" target=\"_blank\" rel=\"noreferrer noopener\">Show in docs</a></p>\n"
            ],
            "text/plain": [
              "<IPython.core.display.HTML object>"
            ]
          },
          "metadata": {
            "tags": []
          }
        }
      ]
    },
    {
      "cell_type": "code",
      "metadata": {
        "id": "GouuRCL3whPL",
        "colab_type": "code",
        "colab": {}
      },
      "source": [
        "dest = path/'mullet'"
      ],
      "execution_count": 32,
      "outputs": []
    },
    {
      "cell_type": "code",
      "metadata": {
        "id": "05OdUnTzwnYP",
        "colab_type": "code",
        "colab": {
          "base_uri": "https://localhost:8080/",
          "height": 17
        },
        "outputId": "6060e5dc-e2db-43f7-b196-5150a94c8856"
      },
      "source": [
        "download_images(dest, url_file=Path('mullet.csv'))"
      ],
      "execution_count": 34,
      "outputs": [
        {
          "output_type": "display_data",
          "data": {
            "text/html": [
              ""
            ],
            "text/plain": [
              "<IPython.core.display.HTML object>"
            ]
          },
          "metadata": {
            "tags": []
          }
        }
      ]
    },
    {
      "cell_type": "code",
      "metadata": {
        "id": "V8lcZf1tw9xO",
        "colab_type": "code",
        "colab": {}
      },
      "source": [
        "!rm -rf /content/data/mullet"
      ],
      "execution_count": 35,
      "outputs": []
    },
    {
      "cell_type": "code",
      "metadata": {
        "id": "zFtYeHTVsuF0",
        "colab_type": "code",
        "colab": {}
      },
      "source": [
        "if not path.exists():\n",
        "    path.mkdir()\n",
        "    for o in fish_types:\n",
        "        dest = (path/o)\n",
        "        dest.mkdir(exist_ok=True)\n",
        "        download_images(dest, url_file=Path(f'{o}+.csv'))\n"
      ],
      "execution_count": 36,
      "outputs": []
    },
    {
      "cell_type": "markdown",
      "metadata": {
        "id": "F66aZygvtNHE",
        "colab_type": "text"
      },
      "source": [
        "## Cool trick to start jupyter notebook in your browser running on Google colab\n",
        "\n",
        "#### References:\n",
        " https://towardsdatascience.com/colab-free-gpu-ssh-visual-studio-code-server-36fe1d3c5243\n",
        "\n",
        "https://towardsdatascience.com/@ngshya"
      ]
    },
    {
      "cell_type": "markdown",
      "metadata": {
        "id": "NhHHbrBNtWmE",
        "colab_type": "text"
      },
      "source": [
        "### Change the runtime to GPU and run the following cell"
      ]
    },
    {
      "cell_type": "code",
      "metadata": {
        "id": "V6NlKPcvomZy",
        "colab_type": "code",
        "colab": {}
      },
      "source": [
        ""
      ],
      "execution_count": null,
      "outputs": []
    },
    {
      "cell_type": "code",
      "metadata": {
        "id": "r2pXFO_gonKf",
        "colab_type": "code",
        "colab": {}
      },
      "source": [
        ""
      ],
      "execution_count": null,
      "outputs": []
    },
    {
      "cell_type": "code",
      "metadata": {
        "id": "I3jK3dCUg7n6",
        "colab_type": "code",
        "colab": {
          "base_uri": "https://localhost:8080/",
          "height": 34
        },
        "outputId": "18f892fe-df01-4e8b-8d4b-6453e04994a7"
      },
      "source": [
        "# Install useful stuff\n",
        "! apt-get install --yes ssh screen nano htop ranger git > /dev/null\n",
        "! echo \"root:jupyter\" | chpasswd\n",
        "! echo \"PasswordAuthentication yes\" > /etc/ssh/sshd_config\n",
        "! echo \"PermitUserEnvironment yes\" >> /etc/ssh/sshd_config\n",
        "! echo \"PermitRootLogin yes\" >> /etc/ssh/sshd_config\n",
        "! service ssh restart > /dev/null\n",
        "! wget -q -c -nc https://bin.equinox.io/c/4VmDzA7iaHb/ngrok-stable-linux-amd64.zip\n",
        "! unzip -qq -n ngrok-stable-linux-amd64.zip\n",
        "authtoken = \"1eJhCMXrmCumdo4mtYHCshwQs7y_4K8nuHtTWQKkkotYrnyxR\"\n",
        "get_ipython().system_raw('./ngrok authtoken $authtoken && ./ngrok tcp 22 &')\n",
        "! sleep 3\n",
        "import requests\n",
        "from re import sub\n",
        "r = requests.get('http://localhost:4040/api/tunnels')\n",
        "str_ssh = r.json()['tunnels'][0]['public_url']\n",
        "str_ssh = sub(\"tcp://\", \"\", str_ssh)\n",
        "str_ssh = sub(\":\", \" -p \", str_ssh)\n",
        "str_ssh = \"ssh root@\" + str_ssh\n",
        "print(str_ssh)"
      ],
      "execution_count": null,
      "outputs": [
        {
          "output_type": "stream",
          "text": [
            "ssh root@2.tcp.ngrok.io -p 17592\n"
          ],
          "name": "stdout"
        }
      ]
    },
    {
      "cell_type": "markdown",
      "metadata": {
        "id": "fQ1dR29htpun",
        "colab_type": "text"
      },
      "source": [
        "### Open terminal and run the following commands\n",
        "---\n",
        "\n"
      ]
    },
    {
      "cell_type": "code",
      "metadata": {
        "id": "AevBdh7ttu55",
        "colab_type": "code",
        "colab": {
          "base_uri": "https://localhost:8080/",
          "height": 86
        },
        "outputId": "50e5a072-a9c8-48b0-a473-63e5619e649f"
      },
      "source": [
        "print(str_ssh)\n",
        "print('apt-get update')\n",
        "print('apt-get install -y jupyter-notebook')\n",
        "print('jupyter notebook --ip=0.0.0.0 --port=8081')"
      ],
      "execution_count": null,
      "outputs": [
        {
          "output_type": "stream",
          "text": [
            "ssh root@2.tcp.ngrok.io -p 17592\n",
            "apt-get update\n",
            "apt-get install -y jupyter-notebook\n",
            "jupyter notebook --ip=0.0.0.0 --port=8081\n"
          ],
          "name": "stdout"
        }
      ]
    },
    {
      "cell_type": "markdown",
      "metadata": {
        "id": "pKH2Cr3Cu1-H",
        "colab_type": "text"
      },
      "source": [
        "### Start jupyter notebook in browser\n",
        "\n",
        "#### Run the following in new terminal session\n"
      ]
    },
    {
      "cell_type": "code",
      "metadata": {
        "id": "sKuqql-6tec7",
        "colab_type": "code",
        "colab": {
          "base_uri": "https://localhost:8080/",
          "height": 54
        },
        "outputId": "3ff2aa42-80fa-40c8-b491-bd8ed480b8b8"
      },
      "source": [
        "print('ssh -L 8081:localhost:8081'+str_ssh[3:] + ' \"cd /content && git clone https://github.com/rajaskakodkar/fish-classifier && pip3 install notebook && jupyter-notebook --ip=0.0.0.0 --port=8081\"')"
      ],
      "execution_count": null,
      "outputs": [
        {
          "output_type": "stream",
          "text": [
            "ssh -L 8081:localhost:8081 root@2.tcp.ngrok.io -p 17592 \"cd /content && git clone https://github.com/rajaskakodkar/fish-classifier && pip3 install notebook && jupyter-notebook --ip=0.0.0.0 --port=8081\"\n"
          ],
          "name": "stdout"
        }
      ]
    },
    {
      "cell_type": "markdown",
      "metadata": {
        "id": "gET9Tq-0tdqw",
        "colab_type": "text"
      },
      "source": [
        "### There you have it, jupyter notebook running on google colab.\n",
        "\n",
        "#### Note: ssh session maybe get disconnected due to inactivity, follow the above steps again if you get disconnected.\n",
        "\n",
        "```\n",
        "function ClickConnect() {\n",
        "  console.log('Working')\n",
        "  document.querySelector('#top-toolbar > colab-connect-button')\n",
        "  .shadowRoot.querySelector('#connect')\n",
        "  .click()\n",
        "}\n",
        "setInterval(ClickConnect, 60000)\n",
        "```\n",
        "\n",
        "https://www.rockyourcode.com/script-to-stop-google-colab-from-disconnecting/"
      ]
    },
    {
      "cell_type": "code",
      "metadata": {
        "id": "H7y0sxbh9XRY",
        "colab_type": "code",
        "colab": {}
      },
      "source": [
        ""
      ],
      "execution_count": null,
      "outputs": []
    }
  ]
}