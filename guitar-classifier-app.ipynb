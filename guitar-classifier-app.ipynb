{
 "cells": [
  {
   "cell_type": "code",
   "execution_count": 2,
   "metadata": {},
   "outputs": [],
   "source": [
    "from fastai.vision.all import *\n",
    "from fastai.vision.widgets import widgets"
   ]
  },
  {
   "cell_type": "markdown",
   "metadata": {},
   "source": [
    "<h1><center>Guitar Classifier!</center></h1>"
   ]
  },
  {
   "cell_type": "markdown",
   "metadata": {},
   "source": [
    "<center>Confused between different types of Guitars? You have reached the right place! Simply upload an image of your Guitar and click on classify button. This app will tell you if it is Acoustic, Classical or Electric Guitar.</center>"
   ]
  },
  {
   "cell_type": "markdown",
   "metadata": {},
   "source": [
    "<center>Note: This app handles only three categories of Guitars mentioned above, it will not give a correct result for a Bass Guitar or for any other type of Guitar!</center>"
   ]
  },
  {
   "cell_type": "code",
   "execution_count": 6,
   "metadata": {},
   "outputs": [],
   "source": [
    "path = Path()\n",
    "learn_inf = load_learner(path/'export.pkl')\n",
    "upload = widgets.FileUpload()\n",
    "classify = widgets.Button(description='Classify',button_style='info')\n",
    "output = widgets.Output()\n",
    "preds_lbl = widgets.HTML()\n",
    "ac_prog = widgets.FloatProgress(min=0.0, max=1.0,description='Acoustic')\n",
    "ac_prob = widgets.Label()\n",
    "cl_prog = widgets.FloatProgress(min=0.0, max=1.0,description='Classical')\n",
    "cl_prob = widgets.Label()\n",
    "el_prog = widgets.FloatProgress(min=0.0, max=1.0,description='Electric')\n",
    "el_prob = widgets.Label()"
   ]
  },
  {
   "cell_type": "code",
   "execution_count": 7,
   "metadata": {},
   "outputs": [],
   "source": [
    "def on_click_classify(change):\n",
    "    img = PILImage.create(upload.data[0])\n",
    "    output.clear_output()\n",
    "    \n",
    "    with output: display(img.to_thumb(224,224))\n",
    "    pred,pred_idx,probs = learn_inf.predict(img)\n",
    "    preds_lbl.value = f'<h3><center><b>Prediction: {str(pred).capitalize()} 🎸</br> Probability:{(probs[pred_idx]):.04f}</b></center></h3>'\n",
    "    ac_prog.value = probs[0]\n",
    "    ac_prob.value = f'{(probs[0]):.04f}'\n",
    "    cl_prog.value = probs[1]\n",
    "    cl_prob.value = f'{(probs[1]):.04f}'\n",
    "    el_prog.value = probs[2]\n",
    "    el_prob.value = f'{(probs[2]):.04f}'\n",
    "    \n",
    "classify.on_click(on_click_classify)"
   ]
  },
  {
   "cell_type": "code",
   "execution_count": 8,
   "metadata": {},
   "outputs": [
    {
     "data": {
      "application/vnd.jupyter.widget-view+json": {
       "model_id": "8ecabde0648f40d0becaf6412b295a52",
       "version_major": 2,
       "version_minor": 0
      },
      "text/plain": [
       "VBox(children=(HTML(value='Please upload a picture of your Guitar'), FileUpload(value={}, description='Upload'…"
      ]
     },
     "metadata": {},
     "output_type": "display_data"
    }
   ],
   "source": [
    "box_layout = widgets.Layout(align_items='center')\n",
    "widgets.VBox([widgets.HTML('Please upload a picture of your Guitar'),\n",
    "      upload, classify, output,  widgets.HBox([ac_prog, ac_prob]), widgets.HBox([cl_prog, cl_prob]), \n",
    "              widgets.HBox([el_prog, el_prob]), preds_lbl], layout=box_layout)"
   ]
  }
 ],
 "metadata": {
  "kernelspec": {
   "display_name": "Python 3",
   "language": "python",
   "name": "python3"
  },
  "language_info": {
   "codemirror_mode": {
    "name": "ipython",
    "version": 3
   },
   "file_extension": ".py",
   "mimetype": "text/x-python",
   "name": "python",
   "nbconvert_exporter": "python",
   "pygments_lexer": "ipython3",
   "version": "3.8.2"
  }
 },
 "nbformat": 4,
 "nbformat_minor": 4
}
